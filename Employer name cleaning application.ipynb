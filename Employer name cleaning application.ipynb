{
 "cells": [
  {
   "cell_type": "code",
   "execution_count": null,
   "metadata": {},
   "outputs": [],
   "source": [
    "import pandas as pd\n",
    "import difflib as dl\n",
    "import csv\n",
    "import sqlite3"
   ]
  },
  {
   "cell_type": "markdown",
   "metadata": {},
   "source": [
    "# Function definitions"
   ]
  },
  {
   "cell_type": "code",
   "execution_count": null,
   "metadata": {},
   "outputs": [],
   "source": [
    "def fetch_names(cursor):\n",
    "    cursor.execute(\"SELECT * FROM employer_pairs\")\n",
    "    results = cursor.fetchall()\n",
    "    pairs = {x[0]:x[1] for x in results}\n",
    "    clean_employer_names = [str(x) for x in set(pairs.values())]\n",
    "    clean_employer_names_for_compare = []\n",
    "    employer_lookup = {x:y for x,y in pairs.items() if x!=y}\n",
    "    dirty_employer_names = [str(x) for x in employer_lookup.keys()]\n",
    "    return clean_employer_names, employer_lookup, dirty_employer_names"
   ]
  },
  {
   "cell_type": "code",
   "execution_count": null,
   "metadata": {},
   "outputs": [],
   "source": [
    "def match_name(name):\n",
    "    global c # sqlite cursor\n",
    "    clean_employer_names, employer_lookup, dirty_employer_names = fetch_names(c)\n",
    "    if name in clean_employer_names:\n",
    "        return name\n",
    "    elif name in employer_lookup.keys():\n",
    "        return employer_lookup[name]\n",
    "    choices = dl.get_close_matches(name,clean_employer_names)\n",
    "    choices2 = dl.get_close_matches(name,dirty_employer_names)\n",
    "    choices2 = [employer_lookup.get(x) for x in choices2]\n",
    "    reversed_choices = dl.get_close_matches(\" \".join(list(reversed(name.split(\" \")))),clean_employer_names)\n",
    "    reversed_choices2 = [employer_lookup.get(x) for x in dl.get_close_matches(\" \".join(list(reversed(name.split(\" \")))),dirty_employer_names)]\n",
    "    all_choices = choices + choices2 + reversed_choices + reversed_choices2\n",
    "    all_choices = list(set(all_choices))\n",
    "    if len(all_choices) == 0:\n",
    "        user_name = input('Original: {}\\nNo suggestions, please enter name or hit enter to use raw name:'.format(name))\n",
    "        if user_name == '':\n",
    "            c.execute(\"INSERT INTO employer_pairs (RAW_NAME, CLEAN_NAME) VALUES (?,?)\",(name,name))\n",
    "            clean_employer_names, employer_lookup, dirty_employer_names = fetch_names(c)\n",
    "            return name\n",
    "        c.execute(\"INSERT INTO employer_pairs (RAW_NAME, CLEAN_NAME) VALUES (?,?)\",(name,user_name))\n",
    "        clean_employer_names, employer_lookup, dirty_employer_names = fetch_names(c)\n",
    "        return user_name\n",
    "    else:\n",
    "        choice_string = ''.join([\"\\n{}){{}}\".format(i+1) for i in range(len(all_choices))])\n",
    "        choice_string = \"Original: {}\\nChoices:\" + choice_string + \"\\n99)Keep original name\\nOr just type a revised name\\n\"\n",
    "        choice_num = input(choice_string.format(name,*all_choices))\n",
    "        try:\n",
    "            val = int(choice_num)\n",
    "            if val != 99:\n",
    "                fixed_name = all_choices[int(choice_num)-1]\n",
    "                c.execute(\"INSERT INTO employer_pairs (RAW_NAME, CLEAN_NAME) VALUES (?,?)\",(name,fixed_name))\n",
    "                clean_employer_names, employer_lookup, dirty_employer_names = fetch_names(c)\n",
    "                return fixed_name \n",
    "            else:\n",
    "                c.execute(\"INSERT INTO employer_pairs (RAW_NAME, CLEAN_NAME) VALUES (?,?)\",(name,name))\n",
    "                clean_employer_names, employer_lookup, dirty_employer_names = fetch_names(c)\n",
    "                return name\n",
    "        except ValueError:  \n",
    "            c.execute(\"INSERT INTO employer_pairs (RAW_NAME, CLEAN_NAME) VALUES (?,?)\",(name,choice_num))\n",
    "            clean_employer_names, employer_lookup, dirty_employer_names = fetch_names(c)\n",
    "            return choice_num"
   ]
  },
  {
   "cell_type": "code",
   "execution_count": null,
   "metadata": {},
   "outputs": [],
   "source": [
    "def process_raw_names(input_file_name,output_file_name):\n",
    "    '''takes an Excel and runs it through the name cleaner\n",
    "     with interaction from user\n",
    "     input_file_name: string, path of Excel file with single column, Employer\n",
    "     output_file_name: string, path of csv file with two columns old employer and standardized employer'''\n",
    "    global c\n",
    "    global conn\n",
    "    raw_employers = pd.read_excel(input_file_name)\n",
    "    raw_employers_list = list(raw_employers.Employer.values)\n",
    "    employers_matched = {k:None for k in raw_employers_list}\n",
    "    for n in raw_employers_list:\n",
    "        if employers_matched[n] is None or employers_matched[n] == '':\n",
    "            #print(n)\n",
    "            employers_matched[n] = match_name(n)\n",
    "            conn.commit()\n",
    "    fout = open(output_file_name,\"w\")\n",
    "    writer = csv.DictWriter(fout, [\"old_name\",\"standardized_name\"])\n",
    "    writer.writeheader()\n",
    "    writeable_dict = [{\"old_name\":k, \"standardized_name\":v} for k,v in employers_matched.items()]\n",
    "    for entry in writeable_dict:\n",
    "        writer.writerow(entry)\n",
    "    c.close()"
   ]
  },
  {
   "cell_type": "markdown",
   "metadata": {},
   "source": [
    "# Connect to database"
   ]
  },
  {
   "cell_type": "code",
   "execution_count": null,
   "metadata": {},
   "outputs": [],
   "source": [
    "conn = sqlite3.connect(\"employer_names.db\")\n",
    "c = conn.cursor()"
   ]
  },
  {
   "cell_type": "code",
   "execution_count": null,
   "metadata": {},
   "outputs": [],
   "source": [
    "#Test looking something up from database\n",
    "c.execute(\"SELECT * from employer_pairs where CLEAN_NAME like '%Adobe%'\")\n",
    "c.fetchall()"
   ]
  },
  {
   "cell_type": "code",
   "execution_count": null,
   "metadata": {},
   "outputs": [],
   "source": [
    "#name the input and output files\n",
    "input_file = \"foo.xlsx\"\n",
    "output_file = \"foo_cleaned.csv\""
   ]
  },
  {
   "cell_type": "code",
   "execution_count": null,
   "metadata": {},
   "outputs": [],
   "source": [
    "#run the application\n",
    "process_raw_names(input_file, output_file)"
   ]
  }
 ],
 "metadata": {
  "kernelspec": {
   "display_name": "Python 3",
   "language": "python",
   "name": "python3"
  },
  "language_info": {
   "codemirror_mode": {
    "name": "ipython",
    "version": 3
   },
   "file_extension": ".py",
   "mimetype": "text/x-python",
   "name": "python",
   "nbconvert_exporter": "python",
   "pygments_lexer": "ipython3",
   "version": "3.6.7"
  }
 },
 "nbformat": 4,
 "nbformat_minor": 1
}
